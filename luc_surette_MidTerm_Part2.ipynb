{
 "cells": [
  {
   "cell_type": "markdown",
   "metadata": {
    "colab_type": "text",
    "id": "u1YDPNtbdHDj"
   },
   "source": [
    "# PETE 2061 Mid-term Exam (Part 2) \n",
    "\n",
    "## THIS IS DUE BY 10:10 AM TODAY"
   ]
  },
  {
   "cell_type": "markdown",
   "metadata": {},
   "source": [
    "1. The production rate from an oil well has been observed to decline following either the exponential or the hyperbolic decline model. The initial oil rate ($q_i$) from this well is 10,000 bopd, and its initial decline rate ($D_i$) is 0.1% per day (which is equivalent to 0.001 per day). Write a Python code that: <br>\n",
    "    a. Reads in either \"Exp\" or \"Hyp\" using the input function, and stores the string typed in by the user into a variable named model. <br>\n",
    "    b. If the model typed in by the user is \"Exp\", use the exponential decline model, which is given as: $q = q_i \\, exp(-D_i t)$, to predict the daily oil rate for the first 3650 days (10 years) of production. <br>\n",
    "    c. If the model typed in by the user is \"Hyp\", use the hyperbolic decline model, which is given as: $q = \\frac{q_i}{(1+b D_i t)^{1/b}}$, with a b value of 0.5, to predict the daily oil rate for the first 3650 days (~10 years) of production. <br>\n",
    "    d. Plot the oil rate computed against time using the plt.plot(time,rate) function, after importing matplotlib.pyplot as plt. Remember to use the plt.show() function to display the plot in your Jupyter Notebook <br>\n",
    "    e. Compute and display the mean, minimum and standard deviation of the computed oil rates. <br>    "
   ]
  },
  {
   "cell_type": "code",
   "execution_count": 170,
   "metadata": {},
   "outputs": [
    {
     "name": "stdout",
     "output_type": "stream",
     "text": [
      "Choose your model, Hyp for Hyperbolic, and Exp for Exponetial: hyp\n",
      "Please enter the Model type, you animal!\n"
     ]
    }
   ],
   "source": [
    "import numpy as np\n",
    "import pandas as pd\n",
    "import matplotlib.pyplot as plt\n",
    "qi = 10000\n",
    "Di = .001\n",
    "t = np.arange(0,3651,1)\n",
    "b = .5\n",
    "Str = input(\"Choose your model, Hyp for Hyperbolic, and Exp for Exponetial: \")\n",
    "model = Str\n",
    "\n",
    "mean1 = np.mean(q_exp) #1 here means the exponetial model\n",
    "min1 = np.min(q_exp)\n",
    "std1 = np.std(q_exp)\n",
    "\n",
    "mean2 = np.mean(q_hyp) #2 here means the hyperbolic model\n",
    "min2 = np.min(q_hyp)\n",
    "std2 = np.std(q_hyp)\n",
    "\n",
    "if (model == \"Exp\"):\n",
    "    q_exp = qi*np.exp(-Di*t) # if the function is exponetial\n",
    "    plt.plot(t,q_exp)\n",
    "    plt.show()\n",
    "    print(f' mean = {mean1}')\n",
    "    print(f' minimum = {min1}')\n",
    "    print(f' Standard Deviation = {std1}')\n",
    "    \n",
    "elif (model == \"Hyp\"):\n",
    "    q_hyp = qi/((1+b*Di*t)**(1/b)) # if the function is hyperbolic\n",
    "    plt.plot(t,q_hyp)\n",
    "    plt.show()\n",
    "    print(f' mean = {mean2}')\n",
    "    print(f' minimum = {min2}')\n",
    "    print(f' Standard Deviation = {std2}')\n",
    "\n",
    "else :\n",
    "    print ('Please enter the Model type, you animal!')\n",
    "\n"
   ]
  },
  {
   "cell_type": "markdown",
   "metadata": {},
   "source": [
    "2. Write a Python code that generates, prints and stores 10 random integers into a variable, and then prints the smallest even number out of these 10 numbers. If no even number is present in the 10 random integers, print a message that says \"No even number in the list\". <br>\n",
    "Hints: <br>\n",
    "    a. You can generate a random number using the code below:<br>\n",
    "    myRandInt = np.random.randint(low=1, high=20, size=10)<br>\n",
    "    b. The append function works on a list named myList as follows: <br>\n",
    "    myList.append(\"The current even number from the list should be put in here!\")"
   ]
  },
  {
   "cell_type": "code",
   "execution_count": 335,
   "metadata": {},
   "outputs": [
    {
     "name": "stdout",
     "output_type": "stream",
     "text": [
      "[1 7 5 6 7 2 4 3 6 2]\n",
      "2\n"
     ]
    }
   ],
   "source": [
    "myRandInt = np.random.randint(1,11,10)\n",
    "EvenArray = []\n",
    "\n",
    "print(myRandInt)\n",
    "\n",
    "for num in myRandInt:\n",
    "    if (num%2 == 0):\n",
    "        EvenArray.append(num)     \n",
    "min = np.min(EvenArray)\n",
    "if (len(EvenArray) == 0):\n",
    "    print(\"No even number in the list\")\n",
    "else:    \n",
    "    print(np.min(EvenArray))\n",
    "\n",
    "        \n",
    "        \n",
    "\n",
    "\n",
    "    \n"
   ]
  },
  {
   "cell_type": "code",
   "execution_count": null,
   "metadata": {},
   "outputs": [],
   "source": []
  },
  {
   "cell_type": "code",
   "execution_count": null,
   "metadata": {},
   "outputs": [],
   "source": []
  },
  {
   "cell_type": "code",
   "execution_count": null,
   "metadata": {},
   "outputs": [],
   "source": []
  },
  {
   "cell_type": "code",
   "execution_count": null,
   "metadata": {},
   "outputs": [],
   "source": []
  },
  {
   "cell_type": "code",
   "execution_count": null,
   "metadata": {},
   "outputs": [],
   "source": []
  },
  {
   "cell_type": "code",
   "execution_count": null,
   "metadata": {},
   "outputs": [],
   "source": []
  },
  {
   "cell_type": "code",
   "execution_count": null,
   "metadata": {},
   "outputs": [],
   "source": []
  },
  {
   "cell_type": "code",
   "execution_count": null,
   "metadata": {},
   "outputs": [],
   "source": []
  },
  {
   "cell_type": "code",
   "execution_count": null,
   "metadata": {},
   "outputs": [],
   "source": []
  },
  {
   "cell_type": "code",
   "execution_count": null,
   "metadata": {},
   "outputs": [],
   "source": []
  },
  {
   "cell_type": "code",
   "execution_count": null,
   "metadata": {},
   "outputs": [],
   "source": []
  },
  {
   "cell_type": "code",
   "execution_count": null,
   "metadata": {},
   "outputs": [],
   "source": []
  },
  {
   "cell_type": "code",
   "execution_count": null,
   "metadata": {},
   "outputs": [],
   "source": []
  },
  {
   "cell_type": "code",
   "execution_count": null,
   "metadata": {},
   "outputs": [],
   "source": []
  },
  {
   "cell_type": "code",
   "execution_count": null,
   "metadata": {},
   "outputs": [],
   "source": []
  },
  {
   "cell_type": "code",
   "execution_count": null,
   "metadata": {},
   "outputs": [],
   "source": []
  },
  {
   "cell_type": "code",
   "execution_count": null,
   "metadata": {},
   "outputs": [],
   "source": []
  },
  {
   "cell_type": "code",
   "execution_count": null,
   "metadata": {},
   "outputs": [],
   "source": []
  },
  {
   "cell_type": "code",
   "execution_count": null,
   "metadata": {},
   "outputs": [],
   "source": []
  }
 ],
 "metadata": {
  "colab": {
   "collapsed_sections": [
    "sYQs3O-6dHFb",
    "8sIJ4A57dHFk",
    "_73RPOcBdHFn",
    "h9s2tfPcdHFo",
    "zt4YHVYPdHGR"
   ],
   "include_colab_link": true,
   "name": "Copy of intro-python-colab.ipynb",
   "provenance": [],
   "version": "0.3.2"
  },
  "kernelspec": {
   "display_name": "Python 3",
   "language": "python",
   "name": "python3"
  },
  "language_info": {
   "codemirror_mode": {
    "name": "ipython",
    "version": 3
   },
   "file_extension": ".py",
   "mimetype": "text/x-python",
   "name": "python",
   "nbconvert_exporter": "python",
   "pygments_lexer": "ipython3",
   "version": "3.7.3"
  }
 },
 "nbformat": 4,
 "nbformat_minor": 1
}
